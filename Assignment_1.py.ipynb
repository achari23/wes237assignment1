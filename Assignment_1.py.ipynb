{
 "cells": [
  {
   "cell_type": "code",
   "execution_count": 1,
   "id": "d1ee9a9d",
   "metadata": {},
   "outputs": [
    {
     "data": {
      "application/javascript": [
       "\n",
       "try {\n",
       "require(['notebook/js/codecell'], function(codecell) {\n",
       "  codecell.CodeCell.options_default.highlight_modes[\n",
       "      'magic_text/x-csrc'] = {'reg':[/^%%microblaze/]};\n",
       "  Jupyter.notebook.events.one('kernel_ready.Kernel', function(){\n",
       "      Jupyter.notebook.get_cells().map(function(cell){\n",
       "          if (cell.cell_type == 'code'){ cell.auto_highlight(); } }) ;\n",
       "  });\n",
       "});\n",
       "} catch (e) {};\n"
      ]
     },
     "metadata": {},
     "output_type": "display_data"
    },
    {
     "data": {
      "application/javascript": [
       "\n",
       "try {\n",
       "require(['notebook/js/codecell'], function(codecell) {\n",
       "  codecell.CodeCell.options_default.highlight_modes[\n",
       "      'magic_text/x-csrc'] = {'reg':[/^%%pybind11/]};\n",
       "  Jupyter.notebook.events.one('kernel_ready.Kernel', function(){\n",
       "      Jupyter.notebook.get_cells().map(function(cell){\n",
       "          if (cell.cell_type == 'code'){ cell.auto_highlight(); } }) ;\n",
       "  });\n",
       "});\n",
       "} catch (e) {};\n"
      ]
     },
     "metadata": {},
     "output_type": "display_data"
    }
   ],
   "source": [
    "from pynq.overlays.base import BaseOverlay\n",
    "import time\n",
    "from datetime import datetime\n",
    "base = BaseOverlay(\"base.bit\")\n",
    "btns = base.btns_gpio"
   ]
  },
  {
   "cell_type": "code",
   "execution_count": 2,
   "id": "63f5f1cd",
   "metadata": {},
   "outputs": [],
   "source": [
    "%%microblaze base.PMODB\n",
    "\n",
    "#include \"gpio.h\"\n",
    "#include \"pyprintf.h\"\n",
    "\n",
    "//Function to turn on/off a selected pin of PMODB\n",
    "void write_gpio(unsigned int pin, unsigned int val){\n",
    "    if (val > 1){\n",
    "        pyprintf(\"pin value must be 0 or 1\");\n",
    "    }\n",
    "    gpio pin_out = gpio_open(pin);\n",
    "    gpio_set_direction(pin_out, GPIO_OUT);\n",
    "    gpio_write(pin_out, val);\n",
    "}\n",
    "\n",
    "void reset_gpio() {\n",
    "    write_gpio(1,0);\n",
    "    write_gpio(2,0);\n",
    "    write_gpio(3,0);\n",
    "    write_gpio(0,0);\n",
    "}\n"
   ]
  },
  {
   "cell_type": "code",
   "execution_count": 3,
   "id": "fd96d19d",
   "metadata": {},
   "outputs": [],
   "source": [
    "\n",
    "reset_gpio()\n",
    "import asyncio\n",
    "stop = False\n",
    "begin = True\n",
    "#frequency must be nonzero\n",
    "def pwm(frequency, duty_cycle, pin):\n",
    "    global stop\n",
    "    if (frequency == 0):\n",
    "        print(\"frequency cannot be 0\")\n",
    "        return\n",
    "    \n",
    "    if duty_cycle == 0: \n",
    "        write_gpio(pin,0)\n",
    "    elif duty_cycle == 100:\n",
    "        write_gpio(pin,1)\n",
    "    else:\n",
    "        period = 1/frequency\n",
    "        time_on = period*duty_cycle*.01\n",
    "        time_off = period - time_on\n",
    "        while(True):\n",
    "            write_gpio(pin,1)\n",
    "            time.sleep(time_on)\n",
    "            write_gpio(pin,0)\n",
    "            time.sleep(time_off)\n",
    "            if btns.read() : \n",
    "                reset_gpio()\n",
    "                break\n",
    "\n",
    "#gpio mappings:\n",
    "#1 = blue\n",
    "#2 = red\n",
    "#3 = green\n",
    "async def get_btns(_loop):\n",
    "    global stop, begin\n",
    "    while True:\n",
    "        await asyncio.sleep(0.01)\n",
    "        if begin: \n",
    "            pwm(.5, 25, 2)\n",
    "            begin = False\n",
    "        \n",
    "        elif btns.read() == 4:\n",
    "        #blue\n",
    "            pwm(1,25,1)\n",
    "        elif btns.read() == 2:\n",
    "        #green\n",
    "    \n",
    "            pwm(1,25,3)\n",
    "            \n",
    "        elif btns.read() == 1:\n",
    "        #red \n",
    "           \n",
    "            pwm(1,25,2)"
   ]
  },
  {
   "cell_type": "code",
   "execution_count": null,
   "id": "496b4302",
   "metadata": {},
   "outputs": [],
   "source": [
    "loop = asyncio.new_event_loop()\n",
    "loop.create_task(get_btns(loop))\n",
    "loop.run_forever()"
   ]
  },
  {
   "cell_type": "code",
   "execution_count": 4,
   "id": "b80b6a78",
   "metadata": {},
   "outputs": [],
   "source": [
    "reset_gpio()"
   ]
  },
  {
   "cell_type": "code",
   "execution_count": 9,
   "id": "04607992",
   "metadata": {},
   "outputs": [
    {
     "data": {
      "text/plain": [
       "8"
      ]
     },
     "execution_count": 9,
     "metadata": {},
     "output_type": "execute_result"
    }
   ],
   "source": [
    "btns.read()"
   ]
  },
  {
   "cell_type": "code",
   "execution_count": null,
   "id": "ce3045cb",
   "metadata": {},
   "outputs": [],
   "source": []
  }
 ],
 "metadata": {
  "kernelspec": {
   "display_name": "Python 3",
   "language": "python",
   "name": "python3"
  },
  "language_info": {
   "codemirror_mode": {
    "name": "ipython",
    "version": 3
   },
   "file_extension": ".py",
   "mimetype": "text/x-python",
   "name": "python",
   "nbconvert_exporter": "python",
   "pygments_lexer": "ipython3",
   "version": "3.8.2"
  }
 },
 "nbformat": 4,
 "nbformat_minor": 5
}
